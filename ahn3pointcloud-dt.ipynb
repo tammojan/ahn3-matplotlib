{
 "cells": [
  {
   "cell_type": "markdown",
   "metadata": {},
   "source": [
    "# First steps in working with AHN3 point cloud data"
   ]
  },
  {
   "cell_type": "markdown",
   "metadata": {},
   "source": [
    "Select appropriate tile from https://downloads.pdok.nl/ahn3-downloadpage/, download this tile:\n",
    "```\n",
    "wget https://download.pdok.nl/rws/ahn3/v1_0/laz/C_17CN1.LAZ\n",
    "```"
   ]
  },
  {
   "cell_type": "markdown",
   "metadata": {},
   "source": [
    "Extract the area around the telescope with, following [this tutorial](https://bertt.wordpress.com/2018/11/08/dutch-ahn3-point-cloud-visualization/) (extracting takes half an hour or so)."
   ]
  },
  {
   "cell_type": "markdown",
   "metadata": {},
   "source": [
    "```\n",
    "docker run -v $PWD:/data pdal/pdal pdal pipeline /data/crop.json\n",
    "```"
   ]
  },
  {
   "cell_type": "code",
   "execution_count": 46,
   "metadata": {},
   "outputs": [
    {
     "name": "stdout",
     "output_type": "stream",
     "text": [
      "{\"pipeline\":[\"/data/C_17CN1.LAZ\", {\"type\":\"filters.crop\", \"bounds\": \"([222986,223081],[536532, 536602])\"}, \"/data/dt.laz\"]}\n"
     ]
    }
   ],
   "source": [
    "!cat cropdt.json"
   ]
  },
  {
   "cell_type": "code",
   "execution_count": 47,
   "metadata": {},
   "outputs": [
    {
     "name": "stdout",
     "output_type": "stream",
     "text": [
      "2.3G\tC_17CN1.LAZ\n"
     ]
    }
   ],
   "source": [
    "!du -hs C_17CN1.LAZ"
   ]
  },
  {
   "cell_type": "code",
   "execution_count": 48,
   "metadata": {},
   "outputs": [
    {
     "name": "stdout",
     "output_type": "stream",
     "text": [
      "388K\tdt.laz\n"
     ]
    }
   ],
   "source": [
    "!du -hs dt.laz"
   ]
  },
  {
   "cell_type": "markdown",
   "metadata": {},
   "source": [
    "Now open the laz file in CloudCompare, and delete extra points following [this tutorial](https://www.youtube.com/watch?v=m1rrGbf3Xs4). Save as text file."
   ]
  },
  {
   "cell_type": "code",
   "execution_count": 1,
   "metadata": {},
   "outputs": [
    {
     "name": "stderr",
     "output_type": "stream",
     "text": [
      "/anaconda/envs/school19/lib/python3.6/site-packages/tqdm/autonotebook/__init__.py:14: TqdmExperimentalWarning: Using `tqdm.autonotebook.tqdm` in notebook mode. Use `tqdm.tqdm` instead to force console mode (e.g. in jupyter console)\n",
      "  \" (e.g. in jupyter console)\", TqdmExperimentalWarning)\n"
     ]
    }
   ],
   "source": [
    "import numpy as np\n",
    "import matplotlib.pyplot as plt\n",
    "from mpl_toolkits import mplot3d\n",
    "from matplotlib.animation import FuncAnimation, writers\n",
    "from tqdm.autonotebook import tqdm"
   ]
  },
  {
   "cell_type": "code",
   "execution_count": 2,
   "metadata": {},
   "outputs": [],
   "source": [
    "from ipywidgets import interact, interactive, fixed, interact_manual"
   ]
  },
  {
   "cell_type": "code",
   "execution_count": 3,
   "metadata": {},
   "outputs": [],
   "source": [
    "xyz = np.loadtxt(\"/Users/dijkema/camras/ahn3-puntenwolk/dt-cloud.txt\", skiprows=1)[:, :3]"
   ]
  },
  {
   "cell_type": "code",
   "execution_count": 4,
   "metadata": {},
   "outputs": [
    {
     "data": {
      "text/plain": [
       "<Figure size 720x720 with 0 Axes>"
      ]
     },
     "metadata": {},
     "output_type": "display_data"
    }
   ],
   "source": [
    "fig = plt.figure(figsize=(10, 10));\n",
    "#fig.subplots_adjust(left=0.45, right=0.55, top=0.55, bottom=0.45)\n",
    "\n",
    "def make_figure(alt: int = 20, az: int = 30):\n",
    "    ax = fig.add_subplot(111, projection='3d')\n",
    "\n",
    "    ax.view_init(alt, az)\n",
    "    ax.scatter(xyz[:,0], xyz[:,1], xyz[:,2], s=0.15, color='k')\n",
    "    ax.set_aspect(1)\n",
    "    ax.set_axis_off()\n",
    "    return fig"
   ]
  },
  {
   "cell_type": "code",
   "execution_count": 5,
   "metadata": {},
   "outputs": [
    {
     "data": {
      "application/vnd.jupyter.widget-view+json": {
       "model_id": "cccbe8c822724349a459c6666a3325a3",
       "version_major": 2,
       "version_minor": 0
      },
      "text/plain": [
       "interactive(children=(IntSlider(value=20, description='alt', max=90, step=5), IntSlider(value=30, description=…"
      ]
     },
     "metadata": {},
     "output_type": "display_data"
    }
   ],
   "source": [
    "interact(make_figure, alt=(0, 90, 5), az=(0, 355, 5));"
   ]
  },
  {
   "cell_type": "code",
   "execution_count": 40,
   "metadata": {},
   "outputs": [
    {
     "data": {
      "image/png": "[encoded data removed]",
      "text/plain": [
       "<Figure size 720x720 with 1 Axes>"
      ]
     },
     "metadata": {
      "needs_background": "light"
     },
     "output_type": "display_data"
    }
   ],
   "source": [
    "fig = plt.figure(figsize=(10, 10));\n",
    "ax = fig.add_subplot(111, projection='3d');\n",
    "\n",
    "ax.view_init(20, 0);\n",
    "ax.set_aspect(1);\n",
    "ax.set_axis_off();\n",
    "    \n",
    "def init():\n",
    "    ax.scatter(xyz[:,0], xyz[:,1], xyz[:,2], s=0.1, color='k')\n",
    "    return fig,"
   ]
  },
  {
   "cell_type": "code",
   "execution_count": 41,
   "metadata": {},
   "outputs": [
    {
     "data": {
      "application/vnd.jupyter.widget-view+json": {
       "model_id": "8cc7c88b6c904c9f806ed2a4a972b9bb",
       "version_major": 2,
       "version_minor": 0
      },
      "text/plain": [
       "HBox(children=(IntProgress(value=0, max=178), HTML(value='')))"
      ]
     },
     "metadata": {},
     "output_type": "display_data"
    }
   ],
   "source": [
    "t = tqdm(total=178)\n",
    "\n",
    "def animate(i):\n",
    "    ax.view_init(20., i*2)\n",
    "    t.update()\n",
    "    return fig,"
   ]
  },
  {
   "cell_type": "code",
   "execution_count": 42,
   "metadata": {},
   "outputs": [],
   "source": [
    "# Animate\n",
    "anim = FuncAnimation(fig, animate, init_func=init, frames=178, interval=20, blit=True)\n",
    "# Save\n",
    "writer = writers['ffmpeg'](fps=30, bitrate=1000, extra_args=['-vcodec', 'h264', \"-filter:v\", \"crop=1280:720:80:360\"])\n",
    "anim.save('dt-rotating.mp4', writer=writer, dpi=2*fig.dpi)\n",
    "t.close()"
   ]
  },
  {
   "cell_type": "code",
   "execution_count": null,
   "metadata": {},
   "outputs": [],
   "source": []
  }
 ],
 "metadata": {
  "kernelspec": {
   "display_name": "Python 3",
   "language": "python",
   "name": "python3"
  },
  "language_info": {
   "codemirror_mode": {
    "name": "ipython",
    "version": 3
   },
   "file_extension": ".py",
   "mimetype": "text/x-python",
   "name": "python",
   "nbconvert_exporter": "python",
   "pygments_lexer": "ipython3",
   "version": "3.6.10"
  }
 },
 "nbformat": 4,
 "nbformat_minor": 4
}
